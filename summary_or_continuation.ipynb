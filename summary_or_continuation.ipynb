{
 "cells": [
  {
   "cell_type": "code",
   "execution_count": null,
   "metadata": {},
   "outputs": [],
   "source": [
    "!pip install transformers torch"
   ]
  },
  {
   "cell_type": "code",
   "execution_count": null,
   "metadata": {},
   "outputs": [],
   "source": [
    "from transformers import pipeline\n",
    "\n",
    "def generate_summary_or_continuation(sentence, task='summary'):\n",
    "    if task == 'summary':\n",
    "        summarizer = pipeline(\"summarization\")\n",
    "        summary = summarizer(sentence, max_length=50, min_length=10, do_sample=False)\n",
    "        return summary[0]['summary_text']\n",
    "    \n",
    "    elif task == 'continuation':\n",
    "        generator = pipeline(\"text-generation\", model=\"gpt-3.5-turbo\")\n",
    "        continuation = generator(sentence, max_length=250, num_return_sequences=1)\n",
    "        return continuation[0]['generated_text']\n",
    "    \n",
    "    else:\n",
    "        raise ValueError(\"Invalid task specified. Choose either 'summary' or 'continuation'.\")"
   ]
  },
  {
   "cell_type": "code",
   "execution_count": null,
   "metadata": {},
   "outputs": [],
   "source": [
    "\n",
    "sentence = input(\"Enter the text you want to summarize and continuation:\\n\")\n",
    "print(\"Summary:\", generate_summary_or_continuation(sentence, task='summary'))\n",
    "print(\"Continuation:\", generate_summary_or_continuation(sentence, task='continuation'))"
   ]
  }
 ],
 "metadata": {
  "kernelspec": {
   "display_name": "Python 3",
   "language": "python",
   "name": "python3"
  },
  "language_info": {
   "codemirror_mode": {
    "name": "ipython",
    "version": 3
   },
   "file_extension": ".py",
   "mimetype": "text/x-python",
   "name": "python",
   "nbconvert_exporter": "python",
   "pygments_lexer": "ipython3",
   "version": "3.12.2"
  }
 },
 "nbformat": 4,
 "nbformat_minor": 2
}
